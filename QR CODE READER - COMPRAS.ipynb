{
 "cells": [
  {
   "cell_type": "markdown",
   "id": "c2a5f0b8",
   "metadata": {},
   "source": [
    "# Importando as biliotecas"
   ]
  },
  {
   "cell_type": "code",
   "execution_count": 1,
   "id": "99682a53",
   "metadata": {},
   "outputs": [],
   "source": [
    "import pyqrcode\n",
    "import cv2\n",
    "from pyzbar.pyzbar import decode\n",
    "import webbrowser as wb\n",
    "import os\n",
    "from PIL import Image\n",
    "import pandas as pd\n",
    "import requests\n",
    "from bs4 import BeautifulSoup as bs\n"
   ]
  },
  {
   "cell_type": "markdown",
   "id": "764dfdde",
   "metadata": {},
   "source": [
    "# Definindo as funções"
   ]
  },
  {
   "cell_type": "code",
   "execution_count": 23,
   "id": "f0567afa",
   "metadata": {},
   "outputs": [],
   "source": [
    "#Função top do cabeludo scalpelando o site da receita federal\n",
    "def extrai_texto_nfe(url):\n",
    "    page = requests.get(url)\n",
    "    soup = bs(page.content, 'html.parser')\n",
    "\n",
    "    tr_list = soup.find_all('tr')\n",
    "\n",
    "    text_list = []\n",
    "\n",
    "    for tr_list_item in tr_list:\n",
    "        text_list.append(tr_list_item.text)\n",
    "  \n",
    "    result_list = []\n",
    "\n",
    "    for text_list_item in text_list:\n",
    "        new_list = text_list_item.split('\\n')\n",
    "    \n",
    "\n",
    "        new_text_list = []\n",
    "     \n",
    "        new_text_list.append(new_list[2])\n",
    "        new_text_list.append(new_list[6])\n",
    "        new_text_list.append(new_list[8])\n",
    "        new_text_list.append(new_list[10])\n",
    "        new_text_list.append(new_list[12])\n",
    "        print(new_text_list)\n",
    "        result_list.append(new_text_list)\n",
    "    return result_list\n",
    "\n",
    "#Funções para tratar os dados raspados\n",
    "\n",
    "def produt(lista):\n",
    "    \n",
    "    global produto\n",
    "    produto = []\n",
    "    for prod in range(len(lista)):\n",
    "        prdt = lista[prod][0]\n",
    "        \n",
    "        \n",
    "        produto.append(prdt)\n",
    "\n",
    "    \n",
    "        \n",
    "###\n",
    "\n",
    "def trat_quantid(lista):\n",
    "    \n",
    "    global quantidade\n",
    "    quantidade = []\n",
    "    for prod in range(len(lista)):\n",
    "        qtde = lista[prod][1].replace(\"Qtde.:\",\"\")\n",
    "        qtde2 = qtde.replace(\",\",\".\")\n",
    "        qtde3 = float(qtde2)\n",
    "        \n",
    "        quantidade.append(qtde3)\n",
    "\n",
    "      \n",
    "        \n",
    "###\n",
    "\n",
    "def trat_unidade(lista):\n",
    "    global unidade\n",
    "    unidade = []\n",
    "    for prod in range(len(lista)):\n",
    "        unid = lista[prod][2].replace(\"UN: \",\"\")\n",
    "        \n",
    "        unidade.append(unid)\n",
    "\n",
    "\n",
    "      \n",
    "        \n",
    "###\n",
    "\n",
    "def trat_valor_unid(lista):\n",
    "    global valor_unidade\n",
    "    valor_unidade = []\n",
    "    for prod in range(len(lista)):\n",
    "        vlun = lista[prod][3].replace(\"Vl. Unit.:\",\"\")\n",
    "        vlun2 = vlun.replace(\",\",\".\")\n",
    "        vlun3 = float(vlun2)\n",
    "        \n",
    "        valor_unidade.append(vlun3)\n",
    "\n",
    "       \n",
    "        \n",
    "        \n",
    "###\n",
    "\n",
    "def trat_valor_total(lista):\n",
    "    global valor_total\n",
    "    valor_total = []\n",
    "    for prod in range(len(lista)):\n",
    "        vltt = lista[prod][4].replace(\"Vl. Total\",\"\")\n",
    "        vltt2 = vltt.replace(\",\",\".\")\n",
    "        vltt3 = float(vltt2)\n",
    "        \n",
    "        valor_total.append(vltt3)\n",
    "\n",
    "   \n",
    "    \n",
    "    \n",
    "#Função pra preencher o DataFrame  !!! ATENÇÃO - O DF tem que ser criado anteriormente (no caso \"compras2\")\n",
    "#- RECOMENDAÇÃO: Criaro DF dentro da função ???\n",
    "\n",
    "def montar_df(lista):\n",
    "    compras2['VALOR_TOTAL'] = valor_total\n",
    "    compras2['VALOR_UNITARIO'] = valor_unidade\n",
    "    compras2['UNIDADE'] = unidade\n",
    "    compras2['QUANTIDADE'] = quantidade\n",
    "    compras2['PRODUTO'] = produto\n",
    "\n",
    "\n",
    "    \n",
    "### FUNÇÃO SUPREMA ANINHANDO TODAS AS OUTRAS:\n",
    "\n",
    "\n",
    "def extrair_df(lista):\n",
    "    trat_quantid(lista)\n",
    "    trat_unidade(lista)\n",
    "    trat_valor_total(lista)\n",
    "    trat_valor_unid(lista)\n",
    "    produt(lista)\n",
    "    montar_df(lista)"
   ]
  },
  {
   "cell_type": "markdown",
   "id": "a9141b15",
   "metadata": {},
   "source": [
    "# Criando um data frame vazio (determinando as colunas)"
   ]
  },
  {
   "cell_type": "code",
   "execution_count": 24,
   "id": "52fb819f",
   "metadata": {},
   "outputs": [
    {
     "data": {
      "text/html": [
       "<div>\n",
       "<style scoped>\n",
       "    .dataframe tbody tr th:only-of-type {\n",
       "        vertical-align: middle;\n",
       "    }\n",
       "\n",
       "    .dataframe tbody tr th {\n",
       "        vertical-align: top;\n",
       "    }\n",
       "\n",
       "    .dataframe thead th {\n",
       "        text-align: right;\n",
       "    }\n",
       "</style>\n",
       "<table border=\"1\" class=\"dataframe\">\n",
       "  <thead>\n",
       "    <tr style=\"text-align: right;\">\n",
       "      <th></th>\n",
       "      <th>PRODUTO</th>\n",
       "      <th>QUANTIDADE</th>\n",
       "      <th>UNIDADE</th>\n",
       "      <th>VALOR_UNITARIO</th>\n",
       "      <th>VALOR_TOTAL</th>\n",
       "    </tr>\n",
       "  </thead>\n",
       "  <tbody>\n",
       "  </tbody>\n",
       "</table>\n",
       "</div>"
      ],
      "text/plain": [
       "Empty DataFrame\n",
       "Columns: [PRODUTO, QUANTIDADE, UNIDADE, VALOR_UNITARIO, VALOR_TOTAL]\n",
       "Index: []"
      ]
     },
     "execution_count": 24,
     "metadata": {},
     "output_type": "execute_result"
    }
   ],
   "source": [
    "compras2 = pd.DataFrame(columns = ['PRODUTO', 'QUANTIDADE', 'UNIDADE', 'VALOR_UNITARIO', 'VALOR_TOTAL'])\n",
    "compras2"
   ]
  },
  {
   "cell_type": "markdown",
   "id": "43b00fc2",
   "metadata": {},
   "source": [
    "# Lendo a foto do QR Code"
   ]
  },
  {
   "cell_type": "code",
   "execution_count": 25,
   "id": "29ecbf4b",
   "metadata": {},
   "outputs": [],
   "source": [
    "nota = cv2.imread(r'C:\\Users\\kimge\\OneDrive\\Alecrim\\notas\\notat.jpeg')"
   ]
  },
  {
   "cell_type": "code",
   "execution_count": 26,
   "id": "d209c994",
   "metadata": {},
   "outputs": [
    {
     "data": {
      "text/plain": [
       "numpy.ndarray"
      ]
     },
     "execution_count": 26,
     "metadata": {},
     "output_type": "execute_result"
    }
   ],
   "source": [
    "type(nota)"
   ]
  },
  {
   "cell_type": "code",
   "execution_count": 27,
   "id": "e59afcfc",
   "metadata": {},
   "outputs": [
    {
     "name": "stdout",
     "output_type": "stream",
     "text": [
      "[Decoded(data=b'http://nfe.sefaz.ba.gov.br/servicos/nfce/qrcode.aspx?p=29221273849952003173650040000483371151828395|2|1|1|69F2E189FE898E3B7CC98559E0A8D44B65A6AAEC', type='QRCODE', rect=Rect(left=218, top=338, width=586, height=584), polygon=[Point(x=218, y=343), Point(x=225, y=922), Point(x=804, y=920), Point(x=795, y=338)], quality=1, orientation='UP')]\n"
     ]
    }
   ],
   "source": [
    "#Printando o objeto 'nota' decodificado\n",
    "print(decode(nota))"
   ]
  },
  {
   "cell_type": "code",
   "execution_count": 28,
   "id": "8be622cc",
   "metadata": {},
   "outputs": [
    {
     "data": {
      "text/plain": [
       "'http://nfe.sefaz.ba.gov.br/servicos/nfce/qrcode.aspx?p=29221273849952003173650040000483371151828395|2|1|1|69F2E189FE898E3B7CC98559E0A8D44B65A6AAEC'"
      ]
     },
     "execution_count": 28,
     "metadata": {},
     "output_type": "execute_result"
    }
   ],
   "source": [
    "### Filtrando so o link da nota\n",
    "decode(nota)[0].data.decode('utf-8') ###PEGA A VISÃO !!!! IMPORTANTE"
   ]
  },
  {
   "cell_type": "code",
   "execution_count": 29,
   "id": "258e4a33",
   "metadata": {},
   "outputs": [],
   "source": [
    "#Atribuindo o link a um objeto\n",
    "link_rf = decode(nota)[0].data.decode('utf-8')"
   ]
  },
  {
   "cell_type": "markdown",
   "id": "f0c4b1b6",
   "metadata": {},
   "source": [
    "# Raspando os dados da RF"
   ]
  },
  {
   "cell_type": "code",
   "execution_count": 30,
   "id": "b80b0a37",
   "metadata": {},
   "outputs": [
    {
     "name": "stdout",
     "output_type": "stream",
     "text": [
      "['SACOLA RETORN EKOBOM 1UN PROM', 'Qtde.:1', 'UN: UN', 'Vl. Unit.:\\xa04,79', 'Vl. Total4,79']\n",
      "['ENERG RED BULL 250ML PROM', 'Qtde.:1', 'UN: UN', 'Vl. Unit.:\\xa06,99', 'Vl. Total6,99']\n",
      "['CERV LN HEINEKEN 330ML PROM', 'Qtde.:1', 'UN: CX', 'Vl. Unit.:\\xa035,88', 'Vl. Total35,88']\n",
      "['CERV LN HEINEKEN 330ML PROM', 'Qtde.:1', 'UN: UN', 'Vl. Unit.:\\xa05,98', 'Vl. Total5,98']\n",
      "['CERV LN BUDWEISER 330ML PROM', 'Qtde.:1', 'UN: CX', 'Vl. Unit.:\\xa029,94', 'Vl. Total29,94']\n",
      "['CERV LN BUDWEISER 330ML PROM', 'Qtde.:2', 'UN: UN', 'Vl. Unit.:\\xa04,99', 'Vl. Total9,98']\n",
      "['WHISKY WHITE HORSE 1LT PROM', 'Qtde.:1', 'UN: UN', 'Vl. Unit.:\\xa076,9', 'Vl. Total76,90']\n"
     ]
    }
   ],
   "source": [
    "lista_compras = extrai_texto_nfe(link_rf)"
   ]
  },
  {
   "cell_type": "markdown",
   "id": "cddbc5f5",
   "metadata": {},
   "source": [
    "# Aplicando a função Suprema"
   ]
  },
  {
   "cell_type": "code",
   "execution_count": 31,
   "id": "c8c84fab",
   "metadata": {
    "scrolled": true
   },
   "outputs": [],
   "source": [
    "extrair_df(lista_compras)"
   ]
  },
  {
   "cell_type": "code",
   "execution_count": 32,
   "id": "f5f90763",
   "metadata": {},
   "outputs": [
    {
     "data": {
      "text/html": [
       "<div>\n",
       "<style scoped>\n",
       "    .dataframe tbody tr th:only-of-type {\n",
       "        vertical-align: middle;\n",
       "    }\n",
       "\n",
       "    .dataframe tbody tr th {\n",
       "        vertical-align: top;\n",
       "    }\n",
       "\n",
       "    .dataframe thead th {\n",
       "        text-align: right;\n",
       "    }\n",
       "</style>\n",
       "<table border=\"1\" class=\"dataframe\">\n",
       "  <thead>\n",
       "    <tr style=\"text-align: right;\">\n",
       "      <th></th>\n",
       "      <th>PRODUTO</th>\n",
       "      <th>QUANTIDADE</th>\n",
       "      <th>UNIDADE</th>\n",
       "      <th>VALOR_UNITARIO</th>\n",
       "      <th>VALOR_TOTAL</th>\n",
       "    </tr>\n",
       "  </thead>\n",
       "  <tbody>\n",
       "    <tr>\n",
       "      <th>0</th>\n",
       "      <td>SACOLA RETORN EKOBOM 1UN PROM</td>\n",
       "      <td>1.0</td>\n",
       "      <td>UN</td>\n",
       "      <td>4.79</td>\n",
       "      <td>4.79</td>\n",
       "    </tr>\n",
       "    <tr>\n",
       "      <th>1</th>\n",
       "      <td>ENERG RED BULL 250ML PROM</td>\n",
       "      <td>1.0</td>\n",
       "      <td>UN</td>\n",
       "      <td>6.99</td>\n",
       "      <td>6.99</td>\n",
       "    </tr>\n",
       "    <tr>\n",
       "      <th>2</th>\n",
       "      <td>CERV LN HEINEKEN 330ML PROM</td>\n",
       "      <td>1.0</td>\n",
       "      <td>CX</td>\n",
       "      <td>35.88</td>\n",
       "      <td>35.88</td>\n",
       "    </tr>\n",
       "    <tr>\n",
       "      <th>3</th>\n",
       "      <td>CERV LN HEINEKEN 330ML PROM</td>\n",
       "      <td>1.0</td>\n",
       "      <td>UN</td>\n",
       "      <td>5.98</td>\n",
       "      <td>5.98</td>\n",
       "    </tr>\n",
       "    <tr>\n",
       "      <th>4</th>\n",
       "      <td>CERV LN BUDWEISER 330ML PROM</td>\n",
       "      <td>1.0</td>\n",
       "      <td>CX</td>\n",
       "      <td>29.94</td>\n",
       "      <td>29.94</td>\n",
       "    </tr>\n",
       "    <tr>\n",
       "      <th>5</th>\n",
       "      <td>CERV LN BUDWEISER 330ML PROM</td>\n",
       "      <td>2.0</td>\n",
       "      <td>UN</td>\n",
       "      <td>4.99</td>\n",
       "      <td>9.98</td>\n",
       "    </tr>\n",
       "    <tr>\n",
       "      <th>6</th>\n",
       "      <td>WHISKY WHITE HORSE 1LT PROM</td>\n",
       "      <td>1.0</td>\n",
       "      <td>UN</td>\n",
       "      <td>76.90</td>\n",
       "      <td>76.90</td>\n",
       "    </tr>\n",
       "  </tbody>\n",
       "</table>\n",
       "</div>"
      ],
      "text/plain": [
       "                         PRODUTO  QUANTIDADE UNIDADE  VALOR_UNITARIO  \\\n",
       "0  SACOLA RETORN EKOBOM 1UN PROM         1.0      UN            4.79   \n",
       "1      ENERG RED BULL 250ML PROM         1.0      UN            6.99   \n",
       "2    CERV LN HEINEKEN 330ML PROM         1.0      CX           35.88   \n",
       "3    CERV LN HEINEKEN 330ML PROM         1.0      UN            5.98   \n",
       "4   CERV LN BUDWEISER 330ML PROM         1.0      CX           29.94   \n",
       "5   CERV LN BUDWEISER 330ML PROM         2.0      UN            4.99   \n",
       "6    WHISKY WHITE HORSE 1LT PROM         1.0      UN           76.90   \n",
       "\n",
       "   VALOR_TOTAL  \n",
       "0         4.79  \n",
       "1         6.99  \n",
       "2        35.88  \n",
       "3         5.98  \n",
       "4        29.94  \n",
       "5         9.98  \n",
       "6        76.90  "
      ]
     },
     "execution_count": 32,
     "metadata": {},
     "output_type": "execute_result"
    }
   ],
   "source": [
    "compras2"
   ]
  },
  {
   "cell_type": "markdown",
   "id": "bddc13c0",
   "metadata": {},
   "source": [
    "# MISSÃO CUMPRIDA !"
   ]
  },
  {
   "cell_type": "code",
   "execution_count": null,
   "id": "74413311",
   "metadata": {},
   "outputs": [],
   "source": []
  }
 ],
 "metadata": {
  "kernelspec": {
   "display_name": "Python 3",
   "language": "python",
   "name": "python3"
  },
  "language_info": {
   "codemirror_mode": {
    "name": "ipython",
    "version": 3
   },
   "file_extension": ".py",
   "mimetype": "text/x-python",
   "name": "python",
   "nbconvert_exporter": "python",
   "pygments_lexer": "ipython3",
   "version": "3.8.8"
  }
 },
 "nbformat": 4,
 "nbformat_minor": 5
}
