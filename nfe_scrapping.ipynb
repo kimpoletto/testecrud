{
  "nbformat": 4,
  "nbformat_minor": 0,
  "metadata": {
    "colab": {
      "provenance": [],
      "authorship_tag": "ABX9TyOTPm6DbbvTfjKYstQzvGAV",
      "include_colab_link": true
    },
    "kernelspec": {
      "name": "python3",
      "display_name": "Python 3"
    },
    "language_info": {
      "name": "python"
    }
  },
  "cells": [
    {
      "cell_type": "markdown",
      "metadata": {
        "id": "view-in-github",
        "colab_type": "text"
      },
      "source": [
        "<a href=\"https://colab.research.google.com/github/kimpoletto/testecrud/blob/main/nfe_scrapping.ipynb\" target=\"_parent\"><img src=\"https://colab.research.google.com/assets/colab-badge.svg\" alt=\"Open In Colab\"/></a>"
      ]
    },
    {
      "cell_type": "code",
      "execution_count": 1,
      "metadata": {
        "id": "yRWalafoaxPk"
      },
      "outputs": [],
      "source": [
        "import requests\n",
        "from bs4 import BeautifulSoup as bs"
      ]
    },
    {
      "cell_type": "code",
      "source": [
        "import bs4\n",
        "def extrai_texto_nfe(url):\n",
        "  page = requests.get(url)\n",
        "  soup = bs(page.content, 'html.parser')\n",
        "\n",
        "  tr_list = soup.find_all('tr')\n",
        "  text_list = []\n",
        "\n",
        "  for tr_list_item in tr_list:\n",
        "     text_list.append(tr_list_item.text)\n",
        "  \n",
        "  result_list = []\n",
        "\n",
        "  for text_list_item in text_list:\n",
        "     new_list = text_list_item.split('\\n')\n",
        "    \n",
        "\n",
        "     new_text_list = []\n",
        "     new_text_list.append(new_list[2])\n",
        "     new_text_list.append(new_list[6])\n",
        "     new_text_list.append(new_list[8])\n",
        "     new_text_list.append(new_list[10])\n",
        "     new_text_list.append(new_list[12])\n",
        "     print(new_text_list)\n",
        "     result_list.append(new_text_list)\n",
        "  return result_list"
      ],
      "metadata": {
        "id": "10SRnnZj8zim"
      },
      "execution_count": 2,
      "outputs": []
    },
    {
      "cell_type": "code",
      "source": [
        "lista_nota = extrai_texto_nfe(\"http://nfe.sefaz.ba.gov.br/servicos/nfce/qrcode.aspx?p=29221273849952003173650050000328931769439172|2|1|1|107F98590D670B630DAA0617CF8E4C262C50D758\")"
      ],
      "metadata": {
        "id": "nmf6D326-TvV"
      },
      "execution_count": null,
      "outputs": []
    },
    {
      "cell_type": "code",
      "source": [
        "# retirando caracter unicode\n",
        "\n",
        "for item in lista_nota:\n",
        "  item[3] = item[3].replace(u'\\xa0', u'')\n",
        "\n",
        "for item in lista_nota:\n",
        "  print(item)"
      ],
      "metadata": {
        "id": "V4n24ntAOx6W"
      },
      "execution_count": null,
      "outputs": []
    }
  ]
}