{
  "nbformat": 4,
  "nbformat_minor": 0,
  "metadata": {
    "colab": {
      "provenance": [],
      "authorship_tag": "ABX9TyOXwh42LPM/QJhtU55KAxTI",
      "include_colab_link": true
    },
    "kernelspec": {
      "name": "python3",
      "display_name": "Python 3"
    },
    "language_info": {
      "name": "python"
    }
  },
  "cells": [
    {
      "cell_type": "markdown",
      "metadata": {
        "id": "view-in-github",
        "colab_type": "text"
      },
      "source": [
        "<a href=\"https://colab.research.google.com/github/kimpoletto/testecrud/blob/main/nfe_scrapping.ipynb\" target=\"_parent\"><img src=\"https://colab.research.google.com/assets/colab-badge.svg\" alt=\"Open In Colab\"/></a>"
      ]
    },
    {
      "cell_type": "code",
      "execution_count": 1,
      "metadata": {
        "id": "yRWalafoaxPk"
      },
      "outputs": [],
      "source": [
        "import requests\n",
        "from bs4 import BeautifulSoup as bs"
      ]
    },
    {
      "cell_type": "code",
      "source": [
        "def extrai_texto_nfe(url):\n",
        "  page = requests.get(url)\n",
        "  soup = bs(page.content, 'html.parser')\n",
        "\n",
        "  tr_list = soup.find_all('tr')\n",
        "\n",
        "  text_list = []\n",
        "\n",
        "  for tr_list_item in tr_list:\n",
        "     text_list.append(tr_list_item.text)\n",
        "  \n",
        "  result_list = []\n",
        "\n",
        "  for text_list_item in text_list:\n",
        "     new_list = text_list_item.split('\\n')\n",
        "    \n",
        "\n",
        "     new_text_list = []\n",
        "     \n",
        "     new_text_list.append(new_list[2])\n",
        "     new_text_list.append(new_list[6])\n",
        "     new_text_list.append(new_list[8])\n",
        "     new_text_list.append(new_list[10])\n",
        "     new_text_list.append(new_list[12])\n",
        "     print(new_text_list)\n",
        "     result_list.append(new_text_list)\n",
        "  return result_list"
      ],
      "metadata": {
        "id": "10SRnnZj8zim"
      },
      "execution_count": 2,
      "outputs": []
    },
    {
      "cell_type": "code",
      "source": [
        "# lista_nota = extrai_texto_nfe(\"http://nfe.sefaz.ba.gov.br/servicos/nfce/qrcode.aspx?p=29221273849952003173650050000328931769439172|2|1|1|107F98590D670B630DAA0617CF8E4C262C50D758\")\n",
        "\n",
        "lista_nota2 = extrai_texto_nfe(\"http://nfe.sefaz.ba.gov.br/servicos/nfce/qrcode.aspx?p=29221273849952003173650040000483371151828395|2|1|1|69F2E189FE898E3B7CC98559E0A8D44B65A6AAEC\")"
      ],
      "metadata": {
        "id": "nmf6D326-TvV",
        "colab": {
          "base_uri": "https://localhost:8080/"
        },
        "outputId": "74e4b876-e559-4961-ef36-ac48d37e32b6"
      },
      "execution_count": 3,
      "outputs": [
        {
          "output_type": "stream",
          "name": "stdout",
          "text": [
            "['SACOLA RETORN EKOBOM 1UN PROM', 'Qtde.:1', 'UN: UN', 'Vl. Unit.:\\xa04,79', 'Vl. Total4,79']\n",
            "['ENERG RED BULL 250ML PROM', 'Qtde.:1', 'UN: UN', 'Vl. Unit.:\\xa06,99', 'Vl. Total6,99']\n",
            "['CERV LN HEINEKEN 330ML PROM', 'Qtde.:1', 'UN: CX', 'Vl. Unit.:\\xa035,88', 'Vl. Total35,88']\n",
            "['CERV LN HEINEKEN 330ML PROM', 'Qtde.:1', 'UN: UN', 'Vl. Unit.:\\xa05,98', 'Vl. Total5,98']\n",
            "['CERV LN BUDWEISER 330ML PROM', 'Qtde.:1', 'UN: CX', 'Vl. Unit.:\\xa029,94', 'Vl. Total29,94']\n",
            "['CERV LN BUDWEISER 330ML PROM', 'Qtde.:2', 'UN: UN', 'Vl. Unit.:\\xa04,99', 'Vl. Total9,98']\n",
            "['WHISKY WHITE HORSE 1LT PROM', 'Qtde.:1', 'UN: UN', 'Vl. Unit.:\\xa076,9', 'Vl. Total76,90']\n"
          ]
        }
      ]
    },
    {
      "cell_type": "code",
      "source": [
        "# retirando caracter unicode\n",
        "\n",
        "for item in lista_nota2:\n",
        "  item[3] = item[3].replace(u'\\xa0', u'')\n",
        "\n",
        "for item in lista_nota2:\n",
        "  print(item)"
      ],
      "metadata": {
        "id": "V4n24ntAOx6W",
        "colab": {
          "base_uri": "https://localhost:8080/"
        },
        "outputId": "18a39e35-6daf-4243-9348-c4addb60cd4b"
      },
      "execution_count": 6,
      "outputs": [
        {
          "output_type": "stream",
          "name": "stdout",
          "text": [
            "['SACOLA RETORN EKOBOM 1UN PROM', 'Qtde.:1', 'UN: UN', 'Vl. Unit.:4,79', 'Vl. Total4,79']\n",
            "['ENERG RED BULL 250ML PROM', 'Qtde.:1', 'UN: UN', 'Vl. Unit.:6,99', 'Vl. Total6,99']\n",
            "['CERV LN HEINEKEN 330ML PROM', 'Qtde.:1', 'UN: CX', 'Vl. Unit.:35,88', 'Vl. Total35,88']\n",
            "['CERV LN HEINEKEN 330ML PROM', 'Qtde.:1', 'UN: UN', 'Vl. Unit.:5,98', 'Vl. Total5,98']\n",
            "['CERV LN BUDWEISER 330ML PROM', 'Qtde.:1', 'UN: CX', 'Vl. Unit.:29,94', 'Vl. Total29,94']\n",
            "['CERV LN BUDWEISER 330ML PROM', 'Qtde.:2', 'UN: UN', 'Vl. Unit.:4,99', 'Vl. Total9,98']\n",
            "['WHISKY WHITE HORSE 1LT PROM', 'Qtde.:1', 'UN: UN', 'Vl. Unit.:76,9', 'Vl. Total76,90']\n"
          ]
        }
      ]
    },
    {
      "cell_type": "code",
      "source": [
        "def trata_unicode_nfe(lista):\n",
        "  for item in lista:\n",
        "    item[3] = item[3].replace(u'\\xa0', u'')\n",
        "  return lista\n"
      ],
      "metadata": {
        "id": "tf40dmUFSTv-"
      },
      "execution_count": null,
      "outputs": []
    }
  ]
}