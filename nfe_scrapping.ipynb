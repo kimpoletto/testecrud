{
  "nbformat": 4,
  "nbformat_minor": 0,
  "metadata": {
    "colab": {
      "provenance": [],
      "authorship_tag": "ABX9TyNw0O372qByknCqNIGqC+zR",
      "include_colab_link": true
    },
    "kernelspec": {
      "name": "python3",
      "display_name": "Python 3"
    },
    "language_info": {
      "name": "python"
    }
  },
  "cells": [
    {
      "cell_type": "markdown",
      "metadata": {
        "id": "view-in-github",
        "colab_type": "text"
      },
      "source": [
        "<a href=\"https://colab.research.google.com/github/kimpoletto/testecrud/blob/main/nfe_scrapping.ipynb\" target=\"_parent\"><img src=\"https://colab.research.google.com/assets/colab-badge.svg\" alt=\"Open In Colab\"/></a>"
      ]
    },
    {
      "cell_type": "code",
      "execution_count": 1,
      "metadata": {
        "id": "yRWalafoaxPk"
      },
      "outputs": [],
      "source": [
        "import requests\n",
        "from bs4 import BeautifulSoup"
      ]
    },
    {
      "cell_type": "code",
      "source": [
        "# Web_url = \"http://nfe.sefaz.ba.gov.br/servicos/nfce/qrcode.aspx?p=29221273849952003173650050000328931769439172|2|1|1|107F98590D670B630DAA0617CF8E4C262C50D758\"\n",
        "\n",
        "# page = requests.get(Web_url) \n",
        "  \n",
        "# soup = BeautifulSoup(page.content, 'html.parser')"
      ],
      "metadata": {
        "id": "add4nslbbCAQ"
      },
      "execution_count": null,
      "outputs": []
    },
    {
      "cell_type": "code",
      "source": [
        "# lista = soup.find_all('tr')\n",
        "# # print(lista)\n",
        "# new_list = []\n",
        "# for item in lista:\n",
        "#   new_list.append(item.text)\n",
        "\n",
        "#   # item_str = str(item)\n",
        "#   # text = item_str.split('\">')\n",
        "#   # for text_item in text:\n",
        "#   #   new_list = text_item.split('</')\n",
        "\n",
        "# for new_item in new_list:\n",
        "#   print(new_item)"
      ],
      "metadata": {
        "id": "CVJxJ1SZcsqk"
      },
      "execution_count": null,
      "outputs": []
    },
    {
      "cell_type": "code",
      "source": [
        "def extrai_texto_nfe(url):\n",
        "  page = requests.get(url)\n",
        "  soup = BeautifulSoup(page.content, 'html.parser')\n",
        "\n",
        "  tr_list = soup.find_all('tr')\n",
        "  text_list = []\n",
        "\n",
        "  for tr_list_item in tr_list:\n",
        "     text_list.append(tr_list_item.text)\n",
        "  \n",
        "  result_list = []\n",
        "\n",
        "  for text_list_item in text_list:\n",
        "     new_list = text_list_item.split('\\n')\n",
        "    \n",
        "\n",
        "     new_text_list = []\n",
        "     new_text_list.append(new_list[2])\n",
        "     new_text_list.append(new_list[6])\n",
        "     new_text_list.append(new_list[8])\n",
        "     new_text_list.append(new_list[10])\n",
        "     new_text_list.append(new_list[12])\n",
        "     print(new_text_list)\n",
        "     result_list.append(new_text_list)\n",
        "  return result_list\n",
        "  \n",
        "\n",
        "\n"
      ],
      "metadata": {
        "id": "10SRnnZj8zim"
      },
      "execution_count": 2,
      "outputs": []
    },
    {
      "cell_type": "code",
      "source": [
        "lista_nota = extrai_texto_nfe(\"http://nfe.sefaz.ba.gov.br/servicos/nfce/qrcode.aspx?p=29221273849952003173650050000328931769439172|2|1|1|107F98590D670B630DAA0617CF8E4C262C50D758\")"
      ],
      "metadata": {
        "colab": {
          "base_uri": "https://localhost:8080/"
        },
        "id": "nmf6D326-TvV",
        "outputId": "8c176d25-8d7f-4d29-d07d-057065aff23b"
      },
      "execution_count": 3,
      "outputs": [
        {
          "output_type": "stream",
          "name": "stdout",
          "text": [
            "['CERV EISEN PAL AL SLEEK 350ML PROM', 'Qtde.:1', 'UN: UN', 'Vl. Unit.:\\xa05,19', 'Vl. Total5,19']\n",
            "['BANANA TERRA KG PROM', 'Qtde.:0,765', 'UN: KG', 'Vl. Unit.:\\xa04,92', 'Vl. Total3,76']\n",
            "['BANANA TERRA KG PROM', 'Qtde.:1,725', 'UN: KG', 'Vl. Unit.:\\xa04,92', 'Vl. Total8,49']\n",
            "['PAO FRANCES ATAK MP KG PROM', 'Qtde.:0,346', 'UN: KG', 'Vl. Unit.:\\xa010,98', 'Vl. Total3,80']\n",
            "['PAO FRANCES QUEIJO ATAK MP KG PROM', 'Qtde.:0,342', 'UN: KG', 'Vl. Unit.:\\xa011,98', 'Vl. Total4,10']\n",
            "['ACUCAR MASC KICALDO 500GR', 'Qtde.:1', 'UN: UN', 'Vl. Unit.:\\xa05,24', 'Vl. Total5,24']\n",
            "['LENTILHA POLIGRAOS 500GR', 'Qtde.:1', 'UN: UN', 'Vl. Unit.:\\xa09,58', 'Vl. Total9,58']\n",
            "['GRAO BICO KICALDO 500GR', 'Qtde.:1', 'UN: UN', 'Vl. Unit.:\\xa06,18', 'Vl. Total6,18']\n",
            "['CEBOLA BRANCA KG PROM', 'Qtde.:1,975', 'UN: KG', 'Vl. Unit.:\\xa010,28', 'Vl. Total20,30']\n",
            "['CHIPS ROOTS TO GO BAT DC RX45G', 'Qtde.:1', 'UN: UN', 'Vl. Unit.:\\xa06,8', 'Vl. Total6,80']\n",
            "['CERV LN HEINEKEN 330ML PROM', 'Qtde.:1', 'UN: UN', 'Vl. Unit.:\\xa05,98', 'Vl. Total5,98']\n",
            "['MOL SHOYO KARUI TRAD 1LT', 'Qtde.:1', 'UN: UN', 'Vl. Unit.:\\xa017,35', 'Vl. Total17,35']\n",
            "['FEIJAO FRAD POLIGRAOS 1KG', 'Qtde.:1', 'UN: UN', 'Vl. Unit.:\\xa04,59', 'Vl. Total4,59']\n",
            "['QUEIJO MUSS SERTANEJA MINI KG', 'Qtde.:0,398', 'UN: KG', 'Vl. Unit.:\\xa060,15', 'Vl. Total23,94']\n",
            "['MOL TOM TARANTELA TRAD SC 2KG', 'Qtde.:1', 'UN: UN', 'Vl. Unit.:\\xa011,36', 'Vl. Total11,36']\n",
            "['QUEIJO PRATO VENEZA FAT KG PROM', 'Qtde.:0,222', 'UN: KG', 'Vl. Unit.:\\xa050,28', 'Vl. Total11,16']\n",
            "['OLEO CANOLA SOYA PET 900ML', 'Qtde.:1', 'UN: UN', 'Vl. Unit.:\\xa012,66', 'Vl. Total12,66']\n",
            "['SACOLA RETORN EKOBOM 1UN PROM', 'Qtde.:1', 'UN: UN', 'Vl. Unit.:\\xa04,79', 'Vl. Total4,79']\n"
          ]
        }
      ]
    },
    {
      "cell_type": "code",
      "source": [
        "# retirando caracter unicode\n",
        "\n",
        "for item in lista_nota:\n",
        "  item[3] = item[3].replace(u'\\xa0', u'')"
      ],
      "metadata": {
        "id": "V4n24ntAOx6W"
      },
      "execution_count": 16,
      "outputs": []
    }
  ]
}